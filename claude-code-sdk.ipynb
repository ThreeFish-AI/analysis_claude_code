{
 "cells": [
  {
   "cell_type": "markdown",
   "id": "0543c1df",
   "metadata": {},
   "source": [
    "## Claude Code SDK"
   ]
  },
  {
   "cell_type": "code",
   "execution_count": 2,
   "id": "3e438a0c",
   "metadata": {},
   "outputs": [
    {
     "name": "stdout",
     "output_type": "stream",
     "text": [
      "API Error: 400 {\"meta\":{\"code\":40000,\"type\":\"BadRequest\",\"message\":\"The request was not understood by the server, generally due to bad syntax or because the Content-Type header was not correctly set to application/json.\",\"errors\":[\"unsupported user agent: claude-cli/1.0.81 (external, sdk-py)\"]},\"data\":null}"
     ]
    }
   ],
   "source": [
    "# legal-agent.py\n",
    "import asyncio\n",
    "from claude_code_sdk import ClaudeSDKClient, ClaudeCodeOptions\n",
    "\n",
    "\n",
    "async def main():\n",
    "    async with ClaudeSDKClient(\n",
    "        options=ClaudeCodeOptions(\n",
    "            system_prompt=\"您是一名法律助理。识别风险并提出改进建议。\", max_turns=2\n",
    "        )\n",
    "    ) as client:\n",
    "        # 发送查询\n",
    "        await client.query(\"审查此合同条款的潜在问题：'当事方同意承担无限责任...'\")\n",
    "\n",
    "        # 流式传输响应\n",
    "        async for message in client.receive_response():\n",
    "            if hasattr(message, \"content\"):\n",
    "                # 在内容到达时打印流式内容\n",
    "                for block in message.content:\n",
    "                    if hasattr(block, \"text\"):\n",
    "                        print(block.text, end=\"\", flush=True)\n",
    "\n",
    "\n",
    "# if __name__ == \"__main__\":\n",
    "#     asyncio.run(main())\n",
    "\n",
    "await main()"
   ]
  },
  {
   "cell_type": "code",
   "execution_count": null,
   "id": "bbdc5c3b",
   "metadata": {},
   "outputs": [],
   "source": []
  }
 ],
 "metadata": {
  "kernelspec": {
   "display_name": ".venv",
   "language": "python",
   "name": "python3"
  },
  "language_info": {
   "codemirror_mode": {
    "name": "ipython",
    "version": 3
   },
   "file_extension": ".py",
   "mimetype": "text/x-python",
   "name": "python",
   "nbconvert_exporter": "python",
   "pygments_lexer": "ipython3",
   "version": "3.12.10"
  }
 },
 "nbformat": 4,
 "nbformat_minor": 5
}
